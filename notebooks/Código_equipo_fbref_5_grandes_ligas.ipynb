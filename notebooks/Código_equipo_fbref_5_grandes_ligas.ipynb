{
 "cells": [
  {
   "cell_type": "code",
   "execution_count": 1,
   "metadata": {
    "executionInfo": {
     "elapsed": 7897,
     "status": "ok",
     "timestamp": 1741799630529,
     "user": {
      "displayName": "Pelayo Quiros",
      "userId": "08589941318894450532"
     },
     "user_tz": -60
    },
    "id": "JOropxe5KCTH"
   },
   "outputs": [],
   "source": [
    "import pandas as pd\n",
    "import numpy as np\n",
    "import matplotlib.pyplot as plt\n",
    "import seaborn as sns\n",
    "import plotly.express as px"
   ]
  },
  {
   "cell_type": "code",
   "execution_count": 2,
   "metadata": {
    "executionInfo": {
     "elapsed": 11,
     "status": "ok",
     "timestamp": 1741799631712,
     "user": {
      "displayName": "Pelayo Quiros",
      "userId": "08589941318894450532"
     },
     "user_tz": -60
    },
    "id": "RcxA0mzSLuL3"
   },
   "outputs": [],
   "source": [
    "def clean_estadisticas_estandar(url):\n",
    "\n",
    "#Lectura tablas\n",
    "  tables = pd.read_html(url, header=1)\n",
    "  y = tables[0].copy()\n",
    "\n",
    "\n",
    "\n",
    "#Regular_season_total\n",
    "\n",
    "  y.columns = [col.replace(\".1\",\"/90\") if col.__contains__(\".1\") else col for col in y.columns]\n",
    "  y.rename(columns={'Gls.':'Gls'},inplace=True)\n",
    "  y.drop([\"RL\"], axis=1, inplace=True)\n",
    "  Estandar=y\n",
    "\n",
    "\n",
    "  return Estandar"
   ]
  },
  {
   "cell_type": "code",
   "execution_count": 3,
   "metadata": {
    "executionInfo": {
     "elapsed": 919,
     "status": "ok",
     "timestamp": 1741799633916,
     "user": {
      "displayName": "Pelayo Quiros",
      "userId": "08589941318894450532"
     },
     "user_tz": -60
    },
    "id": "2ry7qEUoNi7v"
   },
   "outputs": [],
   "source": [
    "estandar=clean_estadisticas_estandar(\"https://fbref.com/es/comps/Big5/stats/equipos/Estadisticas-de-Las-5-grandes-ligas-europeas\")"
   ]
  },
  {
   "cell_type": "code",
   "execution_count": 4,
   "metadata": {
    "executionInfo": {
     "elapsed": 10,
     "status": "ok",
     "timestamp": 1741799635478,
     "user": {
      "displayName": "Pelayo Quiros",
      "userId": "08589941318894450532"
     },
     "user_tz": -60
    },
    "id": "27qLY2XlMQnQ"
   },
   "outputs": [],
   "source": [
    "def clean_Disparos(url):\n",
    "\n",
    "#Lectura tablas\n",
    "  tables = pd.read_html(url, header=1)\n",
    "  w = tables[0].copy()\n",
    "\n",
    "\n",
    "\n",
    "#Regular_season_total\n",
    "  w.drop([\"PL\",\"Comp\",\"RL\",\"Equipo\", '90 s','Gls.','xG',\n",
    "        'npxG', 'npxG/Sh', 'G-xG', 'np:G-xG','TP', 'TPint'], axis=1, inplace=True)\n",
    "  w.rename(columns={'% de TT':'%_de TT',\"T/90\":\"Dis/90\", 'TalArc/90':'DaP/90'},inplace=True)\n",
    "  Disparos=w\n",
    "\n",
    "\n",
    "  return Disparos"
   ]
  },
  {
   "cell_type": "code",
   "execution_count": 5,
   "metadata": {
    "executionInfo": {
     "elapsed": 269,
     "status": "ok",
     "timestamp": 1741799637030,
     "user": {
      "displayName": "Pelayo Quiros",
      "userId": "08589941318894450532"
     },
     "user_tz": -60
    },
    "id": "WWU_hBbiMplR"
   },
   "outputs": [],
   "source": [
    "disparos=clean_Disparos(\"https://fbref.com/es/comps/Big5/shooting/equipos/Estadisticas-de-Las-5-grandes-ligas-europeas\")"
   ]
  },
  {
   "cell_type": "code",
   "execution_count": 6,
   "metadata": {
    "executionInfo": {
     "elapsed": 4,
     "status": "ok",
     "timestamp": 1741799638845,
     "user": {
      "displayName": "Pelayo Quiros",
      "userId": "08589941318894450532"
     },
     "user_tz": -60
    },
    "id": "zkbSFiiNNu5H"
   },
   "outputs": [],
   "source": [
    "def clean_Pases_equipo(url):\n",
    "\n",
    "#Lectura tablas\n",
    "  tables = pd.read_html(url, header=1)\n",
    "  e = tables[0].copy()\n",
    "\n",
    "\n",
    "\n",
    "#Regular_season_total\n",
    "  e.drop([\"RL\",\"Comp\",'PL',\"Equipo\", '90 s','Ass', 'xAG', 'xA', 'A-xAG',\"PrgP\"], axis=1, inplace=True)\n",
    "  e.rename(columns={'Cmp':'Pases_exito',\"Int.\":\"Pases_intentados\",'% Cmp':'%_pase_exito','Dist. tot.':'Dist.tot.pase','Dist. prg.':\"Dist.pase.prg\",'Cmp.1':\"Pase_corto_exito\",'Int..1':\"Pase_corto_intentado\",'% Cmp.1':\"%Pase_corto_exito\",'Cmp.2':\"Pase_medio_exito\", 'Int..2':\"Pase_medio_intentado\",'% Cmp.2':\"%Pase_medio_exito\", 'Cmp.3':\"Pase_largo_exito\", 'Int..3':\"Pase_largo_intentado\", '% Cmp.3':\"%Pase_largo_exito\",'PC':\"Pases_clave\",'1/3':\"Pases_1/3\",'PPA':\"Pases_Area\"},inplace=True)\n",
    "  Pases_equipo=e\n",
    "\n",
    "\n",
    "  return Pases_equipo"
   ]
  },
  {
   "cell_type": "code",
   "execution_count": 7,
   "metadata": {
    "executionInfo": {
     "elapsed": 2887,
     "status": "ok",
     "timestamp": 1741799642929,
     "user": {
      "displayName": "Pelayo Quiros",
      "userId": "08589941318894450532"
     },
     "user_tz": -60
    },
    "id": "9gLQnYPqNxEI"
   },
   "outputs": [],
   "source": [
    "pases=clean_Pases_equipo(\"https://fbref.com/es/comps/Big5/passing/equipos/Estadisticas-de-Las-5-grandes-ligas-europeas\")"
   ]
  },
  {
   "cell_type": "code",
   "execution_count": 8,
   "metadata": {
    "executionInfo": {
     "elapsed": 3,
     "status": "ok",
     "timestamp": 1741799644346,
     "user": {
      "displayName": "Pelayo Quiros",
      "userId": "08589941318894450532"
     },
     "user_tz": -60
    },
    "id": "-aWTE2mMN7tT"
   },
   "outputs": [],
   "source": [
    "def clean_Tipo_pases_equipo(url):\n",
    "\n",
    "#Lectura tablas\n",
    "  tables = pd.read_html(url, header=1)\n",
    "  r = tables[0].copy()\n",
    "\n",
    "\n",
    "\n",
    "#Regular_season_total\n",
    "  r.drop([\"RL\",'PL',\"Equipo\", '90 s', 'Int.', 'Balón vivo', 'Balón muerto','PL.1','Lanz.','Cmp',\"Comp\"], axis=1, inplace=True)\n",
    "  r.rename(columns={'FK':'Pases_tiros_libres',\"Dentro\":\"SE_dentro\",'Fuera':'SE_fuera','Rect.':'SE_recto', \"Camb.\":\"Cambios_juego\", \"Bloqueos\":\"Pases_bloqueados\", \"PA\":\"Pases_fuera_juego\"},inplace=True)\n",
    "  Tipos_pases=r\n",
    "\n",
    "\n",
    "  return Tipos_pases"
   ]
  },
  {
   "cell_type": "code",
   "execution_count": 9,
   "metadata": {
    "executionInfo": {
     "elapsed": 2153,
     "status": "ok",
     "timestamp": 1741799647529,
     "user": {
      "displayName": "Pelayo Quiros",
      "userId": "08589941318894450532"
     },
     "user_tz": -60
    },
    "id": "9C7ruWtwN-KF"
   },
   "outputs": [],
   "source": [
    "tipos_pases=clean_Tipo_pases_equipo(\"https://fbref.com/es/comps/Big5/passing_types/equipos/Estadisticas-de-Las-5-grandes-ligas-europeas\")"
   ]
  },
  {
   "cell_type": "code",
   "execution_count": 10,
   "metadata": {
    "executionInfo": {
     "elapsed": 8,
     "status": "ok",
     "timestamp": 1741799648311,
     "user": {
      "displayName": "Pelayo Quiros",
      "userId": "08589941318894450532"
     },
     "user_tz": -60
    },
    "id": "P6sSujdfPeEk"
   },
   "outputs": [],
   "source": [
    "def clean_creacion_goles(url):\n",
    "\n",
    "#Lectura tablas\n",
    "  tables = pd.read_html(url, header=1)\n",
    "  t = tables[0].copy()\n",
    "\n",
    "\n",
    "\n",
    "#Regular_season_total\n",
    "  t.drop([\"RL\",\"Comp\",'PL',\"Equipo\",'90 s'], axis=1, inplace=True)\n",
    "  t.rename(columns={'SCA90':\"ACT/90\",'PasesVivos':'ACT/PasesVivos','PasesMuertos':'ACT/PasesMuertos','HASTA':'ACT/HASTA', 'Dis':'ACT/Dis', 'FR':'ACT/FR', 'Def':'ACT/Def', \"GCA90\":'ACG/90', 'Def':'ACT/Def', \"PasesVivos.1\":\"ACG/PasesVivos\", \"PasesMuertos.1\":\"ACG/PasesMuertos\", \"HASTA.1\":\"ACG/HASTA.1\", \"Dis.1\":\"ACG/Dis\",\"FR.1\":\"ACG/FR\", \"Def.1\":\"ACG/Def\"},inplace=True)\n",
    "  Creacion_goles=t\n",
    "\n",
    "\n",
    "  return Creacion_goles"
   ]
  },
  {
   "cell_type": "code",
   "execution_count": 11,
   "metadata": {
    "executionInfo": {
     "elapsed": 3574,
     "status": "ok",
     "timestamp": 1741799653517,
     "user": {
      "displayName": "Pelayo Quiros",
      "userId": "08589941318894450532"
     },
     "user_tz": -60
    },
    "id": "RyaphO1TPgYk"
   },
   "outputs": [],
   "source": [
    "gca=clean_creacion_goles(\"https://fbref.com/es/comps/Big5/gca/equipos/Estadisticas-de-Las-5-grandes-ligas-europeas\")"
   ]
  },
  {
   "cell_type": "code",
   "execution_count": 12,
   "metadata": {
    "executionInfo": {
     "elapsed": 4,
     "status": "ok",
     "timestamp": 1741799655552,
     "user": {
      "displayName": "Pelayo Quiros",
      "userId": "08589941318894450532"
     },
     "user_tz": -60
    },
    "id": "xUaXhjS1Po_r"
   },
   "outputs": [],
   "source": [
    "def clean_acciones_defensivas(url):\n",
    "\n",
    "#Lectura tablas\n",
    "  tables = pd.read_html(url, header=1)\n",
    "  u = tables[0].copy()\n",
    "\n",
    "\n",
    "\n",
    "#Regular_season_total\n",
    "  u.drop([\"RL\",\"Comp\",'PL',\"Equipo\",'90 s',\"3.º def.\",\"3.º cent.\",\"3.º ataq.\"], axis=1, inplace=True)\n",
    "  u.rename(columns={'Tkl.1':\"Duelos_exito\",'Att':'Duelos_intentados','Tkl%':'%Duelos_exito','Pérdida':'Duelos_perdidos', 'Bloqueos':'Bloqueos_defensivos', 'Dis':'Disparos_bloqueados', 'Pases':'Pases_interceptados', 'Int':'Intercepciones', 'Desp.':'Despejes_defensivos', \"Err\":\"Errores_provocan_tiro_oponente\"},inplace=True)\n",
    "  Acciones_defensivas=u\n",
    "\n",
    "\n",
    "  return Acciones_defensivas"
   ]
  },
  {
   "cell_type": "code",
   "execution_count": 13,
   "metadata": {
    "executionInfo": {
     "elapsed": 288,
     "status": "ok",
     "timestamp": 1741799657236,
     "user": {
      "displayName": "Pelayo Quiros",
      "userId": "08589941318894450532"
     },
     "user_tz": -60
    },
    "id": "YCpZXWfHURGN"
   },
   "outputs": [],
   "source": [
    "defensa=clean_acciones_defensivas(\"https://fbref.com/es/comps/Big5/defense/equipos/Estadisticas-de-Las-5-grandes-ligas-europeas\")"
   ]
  },
  {
   "cell_type": "code",
   "execution_count": 14,
   "metadata": {
    "executionInfo": {
     "elapsed": 13,
     "status": "ok",
     "timestamp": 1741799658830,
     "user": {
      "displayName": "Pelayo Quiros",
      "userId": "08589941318894450532"
     },
     "user_tz": -60
    },
    "id": "tYPM-MbUPtAJ"
   },
   "outputs": [],
   "source": [
    "def clean_Posesion_equipo(url):\n",
    "\n",
    "#Lectura tablas\n",
    "  tables = pd.read_html(url, header=1)\n",
    "  i = tables[0].copy()\n",
    "\n",
    "\n",
    "\n",
    "#Regular_season_total\n",
    "  i.drop([\"RL\",\"Comp\",'PL',\"Equipo\", 'Pos.', '90 s','Balón vivo','Att', 'Succ',\n",
    "        'Exitosa%', 'Tkld', 'Tkld%','Dist. tot.', 'Dist. prg.',\n",
    "        'PrgC', '1/3', 'TAP',\"Des\"], axis=1, inplace=True)\n",
    "  i.rename(columns={'Rec':\"Pases_recibidos\",'PrgR':'Pases_progresivos_decididos'},inplace=True)\n",
    "  Posesion_equipo=i\n",
    "\n",
    "\n",
    "  return Posesion_equipo"
   ]
  },
  {
   "cell_type": "code",
   "execution_count": 15,
   "metadata": {
    "executionInfo": {
     "elapsed": 298,
     "status": "ok",
     "timestamp": 1741799661177,
     "user": {
      "displayName": "Pelayo Quiros",
      "userId": "08589941318894450532"
     },
     "user_tz": -60
    },
    "id": "W7OsyqTfUfMm"
   },
   "outputs": [],
   "source": [
    "posesion=clean_Posesion_equipo(\"https://fbref.com/es/comps/Big5/possession/equipos/Estadisticas-de-Las-5-grandes-ligas-europeas\")"
   ]
  },
  {
   "cell_type": "code",
   "execution_count": 16,
   "metadata": {
    "executionInfo": {
     "elapsed": 5,
     "status": "ok",
     "timestamp": 1741799662450,
     "user": {
      "displayName": "Pelayo Quiros",
      "userId": "08589941318894450532"
     },
     "user_tz": -60
    },
    "id": "fjiqwAlBPyYH"
   },
   "outputs": [],
   "source": [
    "def clean_adicionales(url):\n",
    "\n",
    "#Lectura tablas\n",
    "  tables = pd.read_html(url, header=1)\n",
    "  p = tables[0].copy()\n",
    "\n",
    "\n",
    "\n",
    "#Regular_season_total\n",
    "  p.drop([\"RL\",\"Comp\",'PL',\"Equipo\", '90 s','PA',\n",
    "        'Pcz', 'Int', 'TklG', 'Penal ejecutado', 'Penal concedido', 'GC',\"TA\", \"TR\"], axis=1, inplace=True)\n",
    "  p.rename(columns={'Recup.':\"Recuperaciones_balón\",\"Ganados\":'Aereos_ganados','Perdidos':\"Aereos_perdidos\",'% de ganados':\"%Aereo_ganados\" },inplace=True)\n",
    "  Adicionales=p\n",
    "\n",
    "\n",
    "  return Adicionales"
   ]
  },
  {
   "cell_type": "code",
   "execution_count": 17,
   "metadata": {
    "executionInfo": {
     "elapsed": 281,
     "status": "ok",
     "timestamp": 1741799664359,
     "user": {
      "displayName": "Pelayo Quiros",
      "userId": "08589941318894450532"
     },
     "user_tz": -60
    },
    "id": "BbgxgTfPU71p"
   },
   "outputs": [],
   "source": [
    "adicional=clean_adicionales(\"https://fbref.com/es/comps/Big5/misc/equipos/Estadisticas-de-Las-5-grandes-ligas-europeas\")"
   ]
  },
  {
   "cell_type": "code",
   "execution_count": 18,
   "metadata": {
    "executionInfo": {
     "elapsed": 11,
     "status": "ok",
     "timestamp": 1741799665515,
     "user": {
      "displayName": "Pelayo Quiros",
      "userId": "08589941318894450532"
     },
     "user_tz": -60
    },
    "id": "wi2tyl0KVg3K"
   },
   "outputs": [],
   "source": [
    "def clean_porteria_equipo(url):\n",
    "\n",
    "#Lectura tablas\n",
    "  tables = pd.read_html(url, header=1)\n",
    "  o = tables[0].copy()\n",
    "\n",
    "\n",
    "\n",
    "#Regular_season_total\n",
    "  o.drop([\"PL\",\"Equipo\",\"PJ\",\"Titular\",\"Mín\",\"90 s\",'% Salvadas.1',\"TPint\",\"RL\",\"Comp\"], axis=1, inplace=True)\n",
    "  o.rename(columns={'PD':'Penal_concedido', 'PL':\"PL/vs\",'PD.1':'Penal_detenido',\"GC90\":\"GC/90\"},inplace=True)\n",
    "  Porteria=o\n",
    "\n",
    "\n",
    "  return Porteria"
   ]
  },
  {
   "cell_type": "code",
   "execution_count": 19,
   "metadata": {
    "executionInfo": {
     "elapsed": 239,
     "status": "ok",
     "timestamp": 1741799667077,
     "user": {
      "displayName": "Pelayo Quiros",
      "userId": "08589941318894450532"
     },
     "user_tz": -60
    },
    "id": "ImeKj-PcVpt2"
   },
   "outputs": [],
   "source": [
    "porteria1=clean_porteria_equipo(\"https://fbref.com/es/comps/Big5/keepers/equipos/Estadisticas-de-Las-5-grandes-ligas-europeas\")"
   ]
  },
  {
   "cell_type": "code",
   "execution_count": 20,
   "metadata": {
    "executionInfo": {
     "elapsed": 9,
     "status": "ok",
     "timestamp": 1741799667697,
     "user": {
      "displayName": "Pelayo Quiros",
      "userId": "08589941318894450532"
     },
     "user_tz": -60
    },
    "id": "bqdkjUuvVm3j"
   },
   "outputs": [],
   "source": [
    "def clean_porteria_avanzada(url):\n",
    "\n",
    "#Lectura tablas\n",
    "  tables = pd.read_html(url, header=1)\n",
    "  q = tables[0].copy()\n",
    "\n",
    "\n",
    "\n",
    "#Regular_season_total\n",
    "  q.drop([\"PL\",\"Equipo\",\"90 s\",\"GC\",\"TI\",'Cmp', 'Int.', '% Cmp', 'Int..1', 'TI',\n",
    "        '%deLanzamientos', 'Long. prom.','%deLanzamientos.1',\"RL\",\"Comp\"], axis=1, inplace=True)\n",
    "  q.rename(columns={\"Int..2\":\"Pases_intentados_saque_meta\",\"Long. prom..1\":\"Long/prom/Saque/meta\" },inplace=True)\n",
    "  Porteria_avanzada=q\n",
    "\n",
    "\n",
    "  return Porteria_avanzada"
   ]
  },
  {
   "cell_type": "code",
   "execution_count": 21,
   "metadata": {
    "executionInfo": {
     "elapsed": 1793,
     "status": "ok",
     "timestamp": 1741799670570,
     "user": {
      "displayName": "Pelayo Quiros",
      "userId": "08589941318894450532"
     },
     "user_tz": -60
    },
    "id": "l8GiQh7nWTob"
   },
   "outputs": [],
   "source": [
    "porteria2=clean_porteria_avanzada(\"https://fbref.com/es/comps/Big5/keepersadv/equipos/Estadisticas-de-Las-5-grandes-ligas-europeas\")"
   ]
  },
  {
   "cell_type": "code",
   "execution_count": 22,
   "metadata": {
    "colab": {
     "base_uri": "https://localhost:8080/",
     "height": 423
    },
    "executionInfo": {
     "elapsed": 143,
     "status": "ok",
     "timestamp": 1741799671780,
     "user": {
      "displayName": "Pelayo Quiros",
      "userId": "08589941318894450532"
     },
     "user_tz": -60
    },
    "id": "PziNrj0gVPkI",
    "outputId": "73bee7bd-80a2-46a4-e966-e34eec80bef4"
   },
   "outputs": [
    {
     "data": {
      "text/html": [
       "<div>\n",
       "<style scoped>\n",
       "    .dataframe tbody tr th:only-of-type {\n",
       "        vertical-align: middle;\n",
       "    }\n",
       "\n",
       "    .dataframe tbody tr th {\n",
       "        vertical-align: top;\n",
       "    }\n",
       "\n",
       "    .dataframe thead th {\n",
       "        text-align: right;\n",
       "    }\n",
       "</style>\n",
       "<table border=\"1\" class=\"dataframe\">\n",
       "  <thead>\n",
       "    <tr style=\"text-align: right;\">\n",
       "      <th></th>\n",
       "      <th>Equipo</th>\n",
       "      <th>Comp</th>\n",
       "      <th>PL</th>\n",
       "      <th>Edad</th>\n",
       "      <th>Pos.</th>\n",
       "      <th>PJ</th>\n",
       "      <th>Titular</th>\n",
       "      <th>Mín</th>\n",
       "      <th>90 s</th>\n",
       "      <th>Gls</th>\n",
       "      <th>...</th>\n",
       "      <th>PSxG+/-</th>\n",
       "      <th>/90</th>\n",
       "      <th>Att (GK)</th>\n",
       "      <th>Long/prom/Saque/meta</th>\n",
       "      <th>Opp</th>\n",
       "      <th>Stp</th>\n",
       "      <th>% de Stp</th>\n",
       "      <th>Núm. de OPA</th>\n",
       "      <th>Núm. de OPA/90</th>\n",
       "      <th>DistProm.</th>\n",
       "    </tr>\n",
       "  </thead>\n",
       "  <tbody>\n",
       "    <tr>\n",
       "      <th>0</th>\n",
       "      <td>Alavés</td>\n",
       "      <td>es La Liga</td>\n",
       "      <td>29</td>\n",
       "      <td>27.2</td>\n",
       "      <td>45.6</td>\n",
       "      <td>29</td>\n",
       "      <td>319</td>\n",
       "      <td>2610</td>\n",
       "      <td>29.0</td>\n",
       "      <td>32</td>\n",
       "      <td>...</td>\n",
       "      <td>-2.1</td>\n",
       "      <td>-0.07</td>\n",
       "      <td>695</td>\n",
       "      <td>56.0</td>\n",
       "      <td>392</td>\n",
       "      <td>28</td>\n",
       "      <td>7.1</td>\n",
       "      <td>23</td>\n",
       "      <td>0.79</td>\n",
       "      <td>13.0</td>\n",
       "    </tr>\n",
       "    <tr>\n",
       "      <th>1</th>\n",
       "      <td>Angers</td>\n",
       "      <td>fr Ligue 1</td>\n",
       "      <td>25</td>\n",
       "      <td>28.4</td>\n",
       "      <td>42.4</td>\n",
       "      <td>27</td>\n",
       "      <td>297</td>\n",
       "      <td>2430</td>\n",
       "      <td>27.0</td>\n",
       "      <td>25</td>\n",
       "      <td>...</td>\n",
       "      <td>9.5</td>\n",
       "      <td>0.35</td>\n",
       "      <td>602</td>\n",
       "      <td>42.8</td>\n",
       "      <td>437</td>\n",
       "      <td>42</td>\n",
       "      <td>9.6</td>\n",
       "      <td>17</td>\n",
       "      <td>0.63</td>\n",
       "      <td>10.7</td>\n",
       "    </tr>\n",
       "    <tr>\n",
       "      <th>2</th>\n",
       "      <td>Arsenal</td>\n",
       "      <td>eng Premier League</td>\n",
       "      <td>24</td>\n",
       "      <td>26.5</td>\n",
       "      <td>55.8</td>\n",
       "      <td>29</td>\n",
       "      <td>319</td>\n",
       "      <td>2610</td>\n",
       "      <td>29.0</td>\n",
       "      <td>51</td>\n",
       "      <td>...</td>\n",
       "      <td>1.0</td>\n",
       "      <td>0.04</td>\n",
       "      <td>907</td>\n",
       "      <td>39.1</td>\n",
       "      <td>307</td>\n",
       "      <td>40</td>\n",
       "      <td>13.0</td>\n",
       "      <td>49</td>\n",
       "      <td>1.69</td>\n",
       "      <td>16.6</td>\n",
       "    </tr>\n",
       "    <tr>\n",
       "      <th>3</th>\n",
       "      <td>Aston Villa</td>\n",
       "      <td>eng Premier League</td>\n",
       "      <td>28</td>\n",
       "      <td>27.7</td>\n",
       "      <td>51.4</td>\n",
       "      <td>29</td>\n",
       "      <td>319</td>\n",
       "      <td>2610</td>\n",
       "      <td>29.0</td>\n",
       "      <td>40</td>\n",
       "      <td>...</td>\n",
       "      <td>-1.5</td>\n",
       "      <td>-0.05</td>\n",
       "      <td>887</td>\n",
       "      <td>32.1</td>\n",
       "      <td>395</td>\n",
       "      <td>43</td>\n",
       "      <td>10.9</td>\n",
       "      <td>28</td>\n",
       "      <td>0.97</td>\n",
       "      <td>14.5</td>\n",
       "    </tr>\n",
       "    <tr>\n",
       "      <th>4</th>\n",
       "      <td>Atalanta</td>\n",
       "      <td>it Serie A</td>\n",
       "      <td>32</td>\n",
       "      <td>27.8</td>\n",
       "      <td>55.7</td>\n",
       "      <td>30</td>\n",
       "      <td>330</td>\n",
       "      <td>2700</td>\n",
       "      <td>30.0</td>\n",
       "      <td>61</td>\n",
       "      <td>...</td>\n",
       "      <td>5.5</td>\n",
       "      <td>0.18</td>\n",
       "      <td>763</td>\n",
       "      <td>48.3</td>\n",
       "      <td>261</td>\n",
       "      <td>17</td>\n",
       "      <td>6.5</td>\n",
       "      <td>44</td>\n",
       "      <td>1.47</td>\n",
       "      <td>24.5</td>\n",
       "    </tr>\n",
       "    <tr>\n",
       "      <th>...</th>\n",
       "      <td>...</td>\n",
       "      <td>...</td>\n",
       "      <td>...</td>\n",
       "      <td>...</td>\n",
       "      <td>...</td>\n",
       "      <td>...</td>\n",
       "      <td>...</td>\n",
       "      <td>...</td>\n",
       "      <td>...</td>\n",
       "      <td>...</td>\n",
       "      <td>...</td>\n",
       "      <td>...</td>\n",
       "      <td>...</td>\n",
       "      <td>...</td>\n",
       "      <td>...</td>\n",
       "      <td>...</td>\n",
       "      <td>...</td>\n",
       "      <td>...</td>\n",
       "      <td>...</td>\n",
       "      <td>...</td>\n",
       "      <td>...</td>\n",
       "    </tr>\n",
       "    <tr>\n",
       "      <th>91</th>\n",
       "      <td>Villarreal</td>\n",
       "      <td>es La Liga</td>\n",
       "      <td>28</td>\n",
       "      <td>27.6</td>\n",
       "      <td>48.9</td>\n",
       "      <td>28</td>\n",
       "      <td>308</td>\n",
       "      <td>2520</td>\n",
       "      <td>28.0</td>\n",
       "      <td>49</td>\n",
       "      <td>...</td>\n",
       "      <td>-5.8</td>\n",
       "      <td>-0.21</td>\n",
       "      <td>614</td>\n",
       "      <td>29.4</td>\n",
       "      <td>408</td>\n",
       "      <td>25</td>\n",
       "      <td>6.1</td>\n",
       "      <td>30</td>\n",
       "      <td>1.07</td>\n",
       "      <td>11.6</td>\n",
       "    </tr>\n",
       "    <tr>\n",
       "      <th>92</th>\n",
       "      <td>Werder Bremen</td>\n",
       "      <td>de Bundesliga</td>\n",
       "      <td>23</td>\n",
       "      <td>28.3</td>\n",
       "      <td>49.9</td>\n",
       "      <td>27</td>\n",
       "      <td>297</td>\n",
       "      <td>2430</td>\n",
       "      <td>27.0</td>\n",
       "      <td>42</td>\n",
       "      <td>...</td>\n",
       "      <td>-5.5</td>\n",
       "      <td>-0.20</td>\n",
       "      <td>871</td>\n",
       "      <td>22.8</td>\n",
       "      <td>372</td>\n",
       "      <td>29</td>\n",
       "      <td>7.8</td>\n",
       "      <td>18</td>\n",
       "      <td>0.67</td>\n",
       "      <td>11.9</td>\n",
       "    </tr>\n",
       "    <tr>\n",
       "      <th>93</th>\n",
       "      <td>West Ham</td>\n",
       "      <td>eng Premier League</td>\n",
       "      <td>27</td>\n",
       "      <td>28.9</td>\n",
       "      <td>47.0</td>\n",
       "      <td>29</td>\n",
       "      <td>319</td>\n",
       "      <td>2610</td>\n",
       "      <td>29.0</td>\n",
       "      <td>31</td>\n",
       "      <td>...</td>\n",
       "      <td>-0.9</td>\n",
       "      <td>-0.03</td>\n",
       "      <td>880</td>\n",
       "      <td>43.1</td>\n",
       "      <td>464</td>\n",
       "      <td>19</td>\n",
       "      <td>4.1</td>\n",
       "      <td>27</td>\n",
       "      <td>0.93</td>\n",
       "      <td>13.7</td>\n",
       "    </tr>\n",
       "    <tr>\n",
       "      <th>94</th>\n",
       "      <td>Wolfsburg</td>\n",
       "      <td>de Bundesliga</td>\n",
       "      <td>25</td>\n",
       "      <td>25.9</td>\n",
       "      <td>45.6</td>\n",
       "      <td>27</td>\n",
       "      <td>297</td>\n",
       "      <td>2430</td>\n",
       "      <td>27.0</td>\n",
       "      <td>47</td>\n",
       "      <td>...</td>\n",
       "      <td>7.0</td>\n",
       "      <td>0.26</td>\n",
       "      <td>846</td>\n",
       "      <td>36.7</td>\n",
       "      <td>398</td>\n",
       "      <td>18</td>\n",
       "      <td>4.5</td>\n",
       "      <td>15</td>\n",
       "      <td>0.56</td>\n",
       "      <td>11.7</td>\n",
       "    </tr>\n",
       "    <tr>\n",
       "      <th>95</th>\n",
       "      <td>Wolves</td>\n",
       "      <td>eng Premier League</td>\n",
       "      <td>28</td>\n",
       "      <td>27.6</td>\n",
       "      <td>47.8</td>\n",
       "      <td>29</td>\n",
       "      <td>319</td>\n",
       "      <td>2610</td>\n",
       "      <td>29.0</td>\n",
       "      <td>40</td>\n",
       "      <td>...</td>\n",
       "      <td>-6.8</td>\n",
       "      <td>-0.23</td>\n",
       "      <td>788</td>\n",
       "      <td>34.9</td>\n",
       "      <td>453</td>\n",
       "      <td>34</td>\n",
       "      <td>7.5</td>\n",
       "      <td>47</td>\n",
       "      <td>1.62</td>\n",
       "      <td>13.4</td>\n",
       "    </tr>\n",
       "  </tbody>\n",
       "</table>\n",
       "<p>96 rows × 144 columns</p>\n",
       "</div>"
      ],
      "text/plain": [
       "           Equipo                Comp  PL  Edad  Pos.  PJ  Titular   Mín  \\\n",
       "0          Alavés          es La Liga  29  27.2  45.6  29      319  2610   \n",
       "1          Angers          fr Ligue 1  25  28.4  42.4  27      297  2430   \n",
       "2         Arsenal  eng Premier League  24  26.5  55.8  29      319  2610   \n",
       "3     Aston Villa  eng Premier League  28  27.7  51.4  29      319  2610   \n",
       "4        Atalanta          it Serie A  32  27.8  55.7  30      330  2700   \n",
       "..            ...                 ...  ..   ...   ...  ..      ...   ...   \n",
       "91     Villarreal          es La Liga  28  27.6  48.9  28      308  2520   \n",
       "92  Werder Bremen       de Bundesliga  23  28.3  49.9  27      297  2430   \n",
       "93       West Ham  eng Premier League  27  28.9  47.0  29      319  2610   \n",
       "94      Wolfsburg       de Bundesliga  25  25.9  45.6  27      297  2430   \n",
       "95         Wolves  eng Premier League  28  27.6  47.8  29      319  2610   \n",
       "\n",
       "    90 s  Gls  ...  PSxG+/-   /90  Att (GK)  Long/prom/Saque/meta  Opp  Stp  \\\n",
       "0   29.0   32  ...     -2.1 -0.07       695                  56.0  392   28   \n",
       "1   27.0   25  ...      9.5  0.35       602                  42.8  437   42   \n",
       "2   29.0   51  ...      1.0  0.04       907                  39.1  307   40   \n",
       "3   29.0   40  ...     -1.5 -0.05       887                  32.1  395   43   \n",
       "4   30.0   61  ...      5.5  0.18       763                  48.3  261   17   \n",
       "..   ...  ...  ...      ...   ...       ...                   ...  ...  ...   \n",
       "91  28.0   49  ...     -5.8 -0.21       614                  29.4  408   25   \n",
       "92  27.0   42  ...     -5.5 -0.20       871                  22.8  372   29   \n",
       "93  29.0   31  ...     -0.9 -0.03       880                  43.1  464   19   \n",
       "94  27.0   47  ...      7.0  0.26       846                  36.7  398   18   \n",
       "95  29.0   40  ...     -6.8 -0.23       788                  34.9  453   34   \n",
       "\n",
       "    % de Stp  Núm. de OPA  Núm. de OPA/90  DistProm.  \n",
       "0        7.1           23            0.79       13.0  \n",
       "1        9.6           17            0.63       10.7  \n",
       "2       13.0           49            1.69       16.6  \n",
       "3       10.9           28            0.97       14.5  \n",
       "4        6.5           44            1.47       24.5  \n",
       "..       ...          ...             ...        ...  \n",
       "91       6.1           30            1.07       11.6  \n",
       "92       7.8           18            0.67       11.9  \n",
       "93       4.1           27            0.93       13.7  \n",
       "94       4.5           15            0.56       11.7  \n",
       "95       7.5           47            1.62       13.4  \n",
       "\n",
       "[96 rows x 144 columns]"
      ]
     },
     "execution_count": 22,
     "metadata": {},
     "output_type": "execute_result"
    }
   ],
   "source": [
    "df= pd.concat([estandar,disparos,pases,tipos_pases,gca,defensa,posesion,adicional,porteria1,porteria2],axis=1)\n",
    "df"
   ]
  },
  {
   "cell_type": "code",
   "execution_count": 23,
   "metadata": {
    "id": "weNtduVUYx8U"
   },
   "outputs": [],
   "source": [
    "df.to_csv('/Users/macmontxinho/Desktop/Master Python/TFM/Equipos_Cinco_grandes_ligas_2023.csv', index=False)"
   ]
  }
 ],
 "metadata": {
  "colab": {
   "authorship_tag": "ABX9TyMXWYuaEcMJiuPx66wjEx4y",
   "mount_file_id": "1Ti7CeM-H5_e89GqozuaGFS8MAOoYBkFf",
   "provenance": []
  },
  "kernelspec": {
   "display_name": "venv",
   "language": "python",
   "name": "python3"
  },
  "language_info": {
   "codemirror_mode": {
    "name": "ipython",
    "version": 3
   },
   "file_extension": ".py",
   "mimetype": "text/x-python",
   "name": "python",
   "nbconvert_exporter": "python",
   "pygments_lexer": "ipython3",
   "version": "3.12.6"
  }
 },
 "nbformat": 4,
 "nbformat_minor": 0
}
