{
 "cells": [
  {
   "cell_type": "code",
   "execution_count": 20,
   "metadata": {},
   "outputs": [],
   "source": [
    "import pandas as pd\n",
    "\n",
    "def limpiar_transfermarkt(transfermarkt_path):\n",
    "    # Cargar el archivo de Transfermarkt\n",
    "    df_transfermarkt = pd.read_excel(transfermarkt_path)\n",
    "\n",
    "    # Paso 1: Eliminar el texto entre paréntesis en la columna 'Fecha Nac' y crear la nueva columna 'Nacimiento'\n",
    "    df_transfermarkt['Nacimiento'] = df_transfermarkt['Fecha Nac'].str.replace(r'\\(.*\\)', '', regex=True).str.strip()\n",
    "\n",
    "    # Paso 2: Crear la columna 'Año' extrayendo solo el año de la columna 'Nacimiento'\n",
    "    df_transfermarkt['Año'] = df_transfermarkt['Nacimiento'].str.split('/').str[-1]\n",
    "\n",
    "    # Paso 3: Eliminar la columna original 'Fecha Nac'\n",
    "    df_transfermarkt = df_transfermarkt.drop(columns=['Fecha Nac'])\n",
    "\n",
    "    # Paso 4: Convertir 'Edad' a tipo entero\n",
    "    df_transfermarkt['Edad'] = df_transfermarkt['Edad'].astype(int)\n",
    "\n",
    "    # Paso 5: Verificar que la columna 'Nacimiento' está en formato datetime (y se muestra en formato dd/mm/yyyy)\n",
    "    df_transfermarkt['Nacimiento'] = pd.to_datetime(df_transfermarkt['Nacimiento'], errors='coerce').dt.strftime('%d/%m/%Y')\n",
    "\n",
    "    # Paso 6: Convertir 'Año' a tipo numérico\n",
    "    df_transfermarkt['Año'] = pd.to_numeric(df_transfermarkt['Año'], errors='coerce')\n",
    "\n",
    "    # Paso 7: Sustituir los valores NaN por cero\n",
    "    df_transfermarkt = df_transfermarkt.fillna(0)\n",
    "\n",
    "    # Paso 8: Eliminar filas duplicadas\n",
    "    df_transfermarkt = df_transfermarkt.drop_duplicates()\n",
    "\n",
    "    # Paso 9: Eliminar espacios en los nombres de las columnas\n",
    "    df_transfermarkt.columns = df_transfermarkt.columns.str.strip()\n",
    "\n",
    "    # Paso 10: Reindexar el DataFrame\n",
    "    df_transfermarkt = df_transfermarkt.reset_index(drop=True)\n",
    "\n",
    "    # Paso 11: Verificación final del DataFrame\n",
    "    print(\"\\nPrimeras filas después de toda la limpieza:\")\n",
    "    print(df_transfermarkt.head())\n",
    "\n",
    "    print(\"\\nColumnas y tipos de datos:\")\n",
    "    print(df_transfermarkt.dtypes)\n",
    "\n",
    "    # Retornar el DataFrame limpio\n",
    "    return df_transfermarkt"
   ]
  },
  {
   "cell_type": "code",
   "execution_count": 21,
   "metadata": {},
   "outputs": [
    {
     "name": "stdout",
     "output_type": "stream",
     "text": [
      "\n",
      "Primeras filas después de toda la limpieza:\n",
      "            Jugador              Pos  Valor Mercado       Equipo Competicion  \\\n",
      "0  Thibaut Courtois          Portero           25.0  Real Madrid      laliga   \n",
      "1      Andriy Lunin          Portero           20.0  Real Madrid      laliga   \n",
      "2      Éder Militão  Defensa central           40.0  Real Madrid      laliga   \n",
      "3   Antonio Rüdiger  Defensa central           24.0  Real Madrid      laliga   \n",
      "4       David Alaba  Defensa central           10.0  Real Madrid      laliga   \n",
      "\n",
      "   Edad  Nacimiento     Año  \n",
      "0    32  05/11/1992  1992.0  \n",
      "1    25  02/11/1999  1999.0  \n",
      "2    27           0  1998.0  \n",
      "3    31  03/03/1993  1993.0  \n",
      "4    32           0  1992.0  \n",
      "\n",
      "Columnas y tipos de datos:\n",
      "Jugador           object\n",
      "Pos               object\n",
      "Valor Mercado    float64\n",
      "Equipo            object\n",
      "Competicion       object\n",
      "Edad               int64\n",
      "Nacimiento        object\n",
      "Año              float64\n",
      "dtype: object\n"
     ]
    }
   ],
   "source": [
    "df_transfermarkt = limpiar_transfermarkt(\"/Users/macmontxinho/Desktop/Master Python/TFM/Transfermark.xlsx\")"
   ]
  },
  {
   "cell_type": "code",
   "execution_count": 14,
   "metadata": {},
   "outputs": [
    {
     "name": "stdout",
     "output_type": "stream",
     "text": [
      "Primeras filas después de la limpieza:\n",
      "            Jugador              Pos  Valor Mercado       Equipo Competicion  \\\n",
      "0  Thibaut Courtois          Portero           25.0  Real Madrid      laliga   \n",
      "1      Andriy Lunin          Portero           20.0  Real Madrid      laliga   \n",
      "2      Éder Militão  Defensa central           40.0  Real Madrid      laliga   \n",
      "3   Antonio Rüdiger  Defensa central           24.0  Real Madrid      laliga   \n",
      "4       David Alaba  Defensa central           10.0  Real Madrid      laliga   \n",
      "\n",
      "   Edad           Nacimiento     Año  \n",
      "0    32  1992-05-11 00:00:00  1992.0  \n",
      "1    25  1999-02-11 00:00:00  1999.0  \n",
      "2    27  1998-01-18 00:00:00  1998.0  \n",
      "3    31  1993-03-03 00:00:00  1993.0  \n",
      "4    32  1992-06-24 00:00:00  1992.0  \n",
      "\n",
      "Columnas y tipos de datos:\n",
      "Jugador           object\n",
      "Pos               object\n",
      "Valor Mercado    float64\n",
      "Equipo            object\n",
      "Competicion       object\n",
      "Edad               int64\n",
      "Nacimiento        object\n",
      "Año              float64\n",
      "dtype: object\n"
     ]
    }
   ],
   "source": [
    "# Ver las primeras filas del DataFrame limpio\n",
    "print(\"Primeras filas después de la limpieza:\")\n",
    "print(df_transfermarkt.head())  # Esto imprime las primeras filas del DataFrame\n",
    "\n",
    "# Mostrar el listado de columnas y su tipo de datos\n",
    "print(\"\\nColumnas y tipos de datos:\")\n",
    "print(df_transfermarkt.dtypes)  # Esto imprime las columnas con su tipo de datos"
   ]
  }
 ],
 "metadata": {
  "kernelspec": {
   "display_name": ".venv",
   "language": "python",
   "name": "python3"
  },
  "language_info": {
   "codemirror_mode": {
    "name": "ipython",
    "version": 3
   },
   "file_extension": ".py",
   "mimetype": "text/x-python",
   "name": "python",
   "nbconvert_exporter": "python",
   "pygments_lexer": "ipython3",
   "version": "3.12.6"
  }
 },
 "nbformat": 4,
 "nbformat_minor": 2
}
